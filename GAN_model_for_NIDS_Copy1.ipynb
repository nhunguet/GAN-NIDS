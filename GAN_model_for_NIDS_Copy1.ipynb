{
  "nbformat": 4,
  "nbformat_minor": 0,
  "metadata": {
    "kernelspec": {
      "display_name": "Python 3",
      "language": "python",
      "name": "python3"
    },
    "language_info": {
      "codemirror_mode": {
        "name": "ipython",
        "version": 3
      },
      "file_extension": ".py",
      "mimetype": "text/x-python",
      "name": "python",
      "nbconvert_exporter": "python",
      "pygments_lexer": "ipython3",
      "version": "3.8.3"
    },
    "colab": {
      "provenance": [],
      "include_colab_link": true
    }
  },
  "cells": [
    {
      "cell_type": "markdown",
      "metadata": {
        "id": "view-in-github",
        "colab_type": "text"
      },
      "source": [
        "<a href=\"https://colab.research.google.com/github/nhunguet/GAN-NIDS/blob/main/GAN_model_for_NIDS_Copy1.ipynb\" target=\"_parent\"><img src=\"https://colab.research.google.com/assets/colab-badge.svg\" alt=\"Open In Colab\"/></a>"
      ]
    },
    {
      "cell_type": "code",
      "metadata": {
        "id": "EGR2OmPaDPT5"
      },
      "source": [
        "##Source and implement follow guide by Jason Brownlee,  https://machinelearningmastery.com/semi-supervised-generative-adversarial-network/"
      ],
      "execution_count": null,
      "outputs": []
    },
    {
      "cell_type": "code",
      "metadata": {
        "colab": {
          "base_uri": "https://localhost:8080/"
        },
        "id": "fOzpB_vJeZwg",
        "outputId": "ca456f7e-6de1-4bee-e5da-d45213a2a71a"
      },
      "source": [
        "#Mount to google drive \n",
        "from google.colab import drive\n",
        "drive.mount('/content/drive')"
      ],
      "execution_count": null,
      "outputs": [
        {
          "output_type": "stream",
          "text": [
            "Mounted at /content/drive\n"
          ],
          "name": "stdout"
        }
      ]
    },
    {
      "cell_type": "code",
      "metadata": {
        "id": "-4O0R17OeZzW"
      },
      "source": [
        "# Link to folder\n",
        "import os\n",
        "os.chdir(\"/content/drive/My Drive/NIDS (DNP3-GOOSE)\")"
      ],
      "execution_count": null,
      "outputs": []
    },
    {
      "cell_type": "code",
      "metadata": {
        "id": "JWWHHXm0eZ2A"
      },
      "source": [],
      "execution_count": null,
      "outputs": []
    },
    {
      "cell_type": "markdown",
      "metadata": {
        "id": "-IfjTWE8DPFh"
      },
      "source": []
    },
    {
      "cell_type": "code",
      "metadata": {
        "id": "WsvaahZR7mdx"
      },
      "source": [
        "# Deep Learning\n",
        "# Library\n",
        "\n",
        "from keras.models import Model\n",
        "\n",
        "# Reading CSV\n",
        "# -*- coding: utf-8 -*-\n",
        "\"\"\"\n",
        "Created on Tuesday  March  14:55:25 2021\n",
        "\n",
        "@author: Nhung Nguyen\n",
        "\"\"\"\n",
        "import numpy as np\n",
        "import pandas as pd\n",
        "\n",
        "# MinMaxScaler\n",
        "from sklearn.preprocessing import MinMaxScaler\n",
        "from keras import Input, backend\n",
        "from keras.layers.core import Dense, Activation, Dropout\n",
        "from keras.layers.recurrent import LSTM, GRU, SimpleRNN\n",
        "from keras.models import Sequential, Model\n",
        "import time\n",
        "from sklearn.metrics import mean_squared_error\n",
        "from matplotlib import pyplot\n",
        "from sklearn.preprocessing import MinMaxScaler\n",
        "from sklearn.preprocessing import StandardScaler\n",
        "from sklearn.svm import SVR\n",
        "from keras.optimizers import Adam, SGD\n",
        "#import keras.backend.tensorflow_backend as K\n",
        "from math import sqrt\n",
        "from keras.layers.convolutional import Conv2D, MaxPooling2D\n",
        "from keras.models import Sequential\n",
        "from keras.layers import Dense, Activation, Flatten\n",
        "#mine\n",
        "from sklearn import preprocessing\n",
        "from sklearn.model_selection import train_test_split\n",
        "from sklearn.svm import SVC\n",
        "from sklearn.metrics import classification_report, confusion_matrix\n",
        "from sklearn.cluster import KMeans\n",
        "from keras.callbacks import Callback,ModelCheckpoint\n",
        "from keras.models import Sequential,load_model\n",
        "from keras.layers import Dense, Dropout\n",
        "from keras.wrappers.scikit_learn import KerasClassifier\n",
        "import keras.backend as K\n",
        "import keras\n",
        "from keras import utils\n",
        "from sklearn.utils import shuffle\n",
        "from sklearn.metrics import confusion_matrix\n",
        "from keras.models import Sequential\n",
        "from keras.layers import Dense, Conv1D, Flatten\n",
        "\n",
        "from scipy import interp\n",
        "from sklearn.metrics import roc_auc_score"
      ],
      "execution_count": null,
      "outputs": []
    },
    {
      "cell_type": "markdown",
      "metadata": {
        "id": "ac6svP1FLfgw"
      },
      "source": [
        "# New Section"
      ]
    },
    {
      "cell_type": "code",
      "metadata": {
        "id": "_Rfb4dk-7md4"
      },
      "source": [
        "train_df = pd.read_csv('extracted_dataset_DNP32.csv')\n",
        "\n",
        "scalers = {}\n",
        "train_X = None\n",
        "data = []\n",
        "le = preprocessing.LabelEncoder()\n",
        "for col_name in ('tot_dnp3_payload_len', 'rttd','min_payload_len','dst_bytes','flag','contains_dnp3_pckt',\n",
        "                 'srv_count','dst_host_count','func_code_not_supported_count','dst_host_same_srv_rate',\n",
        "                 'src_bytes','count'):\n",
        "\n",
        "#for col_name in ('path', 't','state','seq','data_cnt'):\n",
        "\n",
        "    if train_df[col_name].dtypes == object or train_df[col_name].dtypes == bool :\n",
        "        train_df[col_name] = le.fit_transform(train_df[col_name]) \n",
        "    scalers[col_name] = MinMaxScaler(feature_range=(0, 1))\n",
        "    data.append(scalers[col_name].fit_transform(np.array(train_df[col_name]).reshape(-1, 1)).reshape(-1))\n",
        "\n",
        "train_X = np.column_stack(data)\n",
        "train_X_rs = train_X.reshape(train_X.shape[0],train_X.shape[1])\n",
        "\n",
        "Y = list(train_df['label'])\n",
        "for i in range(len(Y)):\n",
        "    if Y[i] == 'normal':\n",
        "        Y[i] = 0.0 \n",
        "    elif Y[i] == 'dos':\n",
        "        Y[i] = 1.0 \n",
        "    else:\n",
        "        Y[i] = 1.0 # convert 'dos' to 1.0, other things to 0.0\n",
        "Y = np.array(Y)\n",
        "\n",
        "\n",
        "\n",
        "#train_X, X_test, Y, y_test = train_test_split(train_X, Y, test_size = 0.20)\n"
      ],
      "execution_count": null,
      "outputs": []
    },
    {
      "cell_type": "code",
      "metadata": {
        "id": "JF12jiB1fU2o"
      },
      "source": [
        "from sklearn.svm import LinearSVC\n",
        "#from sklearn import cross_validation\n",
        "#from sklearn.metrics import top_k_accuracy_score\n",
        "from sklearn import metrics\n",
        "\n",
        "X_train, X_test, y_train, y_test =  train_test_split(train_X, Y, test_size=0.1)\n",
        "#svmClassifier = LinearSVC(random_state=11)\n",
        "#svmClassifier.fit(X_train, y_train)\n",
        "#y_pred = svmClassifier.predict(X_test)\n",
        "#metrics.accuracy_score(y_test, y_pred, normalize=True)"
      ],
      "execution_count": null,
      "outputs": []
    },
    {
      "cell_type": "code",
      "metadata": {
        "colab": {
          "base_uri": "https://localhost:8080/"
        },
        "id": "F_wM3BD_e_0Y",
        "outputId": "21112502-e224-451f-f1b2-8c688c33c919"
      },
      "source": [
        "#SVM\n",
        "from sklearn import svm\n",
        "clf = svm.SVC()\n",
        "clf.fit(train_X, Y)"
      ],
      "execution_count": null,
      "outputs": [
        {
          "output_type": "execute_result",
          "data": {
            "text/plain": [
              "SVC(C=1.0, break_ties=False, cache_size=200, class_weight=None, coef0=0.0,\n",
              "    decision_function_shape='ovr', degree=3, gamma='scale', kernel='rbf',\n",
              "    max_iter=-1, probability=False, random_state=None, shrinking=True,\n",
              "    tol=0.001, verbose=False)"
            ]
          },
          "metadata": {
            "tags": []
          },
          "execution_count": 37
        }
      ]
    },
    {
      "cell_type": "code",
      "metadata": {
        "colab": {
          "base_uri": "https://localhost:8080/"
        },
        "id": "GgVO3LIqe_6u",
        "outputId": "b8f0e123-29b1-420a-c862-f2e6697eeb6f"
      },
      "source": [
        "print(X_train.shape)\n",
        "print(y_train.shape)"
      ],
      "execution_count": null,
      "outputs": [
        {
          "output_type": "stream",
          "text": [
            "(774, 12)\n",
            "(774,)\n"
          ],
          "name": "stdout"
        }
      ]
    },
    {
      "cell_type": "code",
      "metadata": {
        "colab": {
          "base_uri": "https://localhost:8080/"
        },
        "id": "jLWWLgZYfpZR",
        "outputId": "34d87304-1f82-429f-b360-516b4fe63c6b"
      },
      "source": [
        "svc = LinearSVC()\n",
        "svc.fit(X_train, y_train)"
      ],
      "execution_count": null,
      "outputs": [
        {
          "output_type": "execute_result",
          "data": {
            "text/plain": [
              "LinearSVC(C=1.0, class_weight=None, dual=True, fit_intercept=True,\n",
              "          intercept_scaling=1, loss='squared_hinge', max_iter=1000,\n",
              "          multi_class='ovr', penalty='l2', random_state=None, tol=0.0001,\n",
              "          verbose=0)"
            ]
          },
          "metadata": {
            "tags": []
          },
          "execution_count": 39
        }
      ]
    },
    {
      "cell_type": "code",
      "metadata": {
        "colab": {
          "base_uri": "https://localhost:8080/",
          "height": 447
        },
        "id": "e3q0pQsbfAHn",
        "outputId": "735d9734-c8d8-4296-b700-94e6bbbb399a"
      },
      "source": [
        "import matplotlib.pyplot as plt\n",
        "plt.scatter(X_train[:, 0], X_train[:, 1], c=y_train, cmap='winter');\n",
        "ax = plt.gca()\n",
        "xlim = ax.get_xlim()\n",
        "w = svc.coef_[0]\n",
        "a = -w[0] / w[1]\n",
        "xx = np.linspace(xlim[0], xlim[1])\n",
        "yy = a * xx - svc.intercept_[0] / w[1]\n",
        "plt.plot(xx, yy)\n",
        "yy = a * xx - (svc.intercept_[0] - 1) / w[1]\n",
        "plt.plot(xx, yy, 'k--')\n",
        "yy = a * xx - (svc.intercept_[0] + 1) / w[1]\n",
        "plt.plot(xx, yy, 'k--')"
      ],
      "execution_count": null,
      "outputs": [
        {
          "output_type": "execute_result",
          "data": {
            "text/plain": [
              "[<matplotlib.lines.Line2D at 0x7f4ea35e8ad0>]"
            ]
          },
          "metadata": {
            "tags": []
          },
          "execution_count": 40
        },
        {
          "output_type": "display_data",
          "data": {
            "image/png": "[encoded data removed]",
            "text/plain": [
              "<Figure size 640x480 with 1 Axes>"
            ]
          },
          "metadata": {
            "tags": []
          }
        }
      ]
    },
    {
      "cell_type": "code",
      "metadata": {
        "id": "PBDUSnQ27md5",
        "colab": {
          "base_uri": "https://localhost:8080/"
        },
        "outputId": "c336acee-00e4-4068-99ed-0e45049da392"
      },
      "source": [
        "y_pred = svc.predict(X_test)\n",
        "confusion_matrix(y_test, y_pred)"
      ],
      "execution_count": null,
      "outputs": [
        {
          "output_type": "execute_result",
          "data": {
            "text/plain": [
              "array([[41,  0],\n",
              "       [ 2, 44]])"
            ]
          },
          "metadata": {
            "tags": []
          },
          "execution_count": 41
        }
      ]
    },
    {
      "cell_type": "code",
      "metadata": {
        "id": "98LA9O6e7md8",
        "colab": {
          "base_uri": "https://localhost:8080/"
        },
        "outputId": "556d3623-89dc-4b76-adb1-53d805a57d71"
      },
      "source": [
        "# data split\n",
        "from sklearn.model_selection import train_test_split\n",
        "\n",
        "X_train, X_test, y_train, y_test = train_test_split(train_X_rs, Y, test_size=0.2, random_state=42)\n",
        "print(X_train.shape)\n",
        "print(y_train.shape)\n",
        "                                                    # stratify = y: means make train and test set have same distribution"
      ],
      "execution_count": null,
      "outputs": [
        {
          "output_type": "stream",
          "text": [
            "(688, 12)\n",
            "(688,)\n"
          ],
          "name": "stdout"
        }
      ]
    },
    {
      "cell_type": "code",
      "metadata": {
        "id": "_6c6zlkN7md8",
        "colab": {
          "base_uri": "https://localhost:8080/"
        },
        "outputId": "e88c8715-80db-4f57-fdba-326b1b6cb732"
      },
      "source": [
        "print('X_train: ',X_train.shape)\n",
        "print('y_train: ',y_train.shape)\n",
        "print('X_test: ',X_test.shape)\n",
        "print('y_test: ',y_test.shape)"
      ],
      "execution_count": null,
      "outputs": [
        {
          "output_type": "stream",
          "text": [
            "X_train:  (688, 12)\n",
            "y_train:  (688,)\n",
            "X_test:  (173, 12)\n",
            "y_test:  (173,)\n"
          ],
          "name": "stdout"
        }
      ]
    },
    {
      "cell_type": "code",
      "metadata": {
        "id": "Np3dcADw7md-"
      },
      "source": [
        "####GAN MODEL\n"
      ],
      "execution_count": null,
      "outputs": []
    },
    {
      "cell_type": "code",
      "metadata": {
        "id": "pAwQecRk7md-"
      },
      "source": [
        "from keras.models import Model\n",
        "from keras.layers import Input\n",
        "from keras.layers import Dense\n",
        "from keras.layers import Conv2D\n",
        "from keras.layers import LeakyReLU, ReLU\n",
        "from keras.layers import Dropout\n",
        "from keras.layers import Flatten\n",
        "from keras.layers import BatchNormalization\n",
        "from keras.initializers import RandomNormal\n",
        "from keras.optimizers import Adam, RMSprop\n",
        "from keras.utils.vis_utils import plot_model\n",
        "\n",
        "from keras.layers import Reshape\n",
        "from keras.layers import Conv2DTranspose\n",
        "from keras.layers import Embedding\n",
        "from keras.layers import Concatenate\n",
        "from keras.layers import Lambda\n",
        "from keras.layers import Activation\n",
        "\n",
        "from matplotlib import pyplot\n",
        "from numpy import zeros\n",
        "from numpy import ones\n",
        "from numpy import asarray\n",
        "from numpy import expand_dims\n",
        "from numpy.random import randn\n",
        "from numpy.random import randint\n",
        "from keras import backend\n",
        "from keras.initializers import RandomNormal\n",
        "%matplotlib inline"
      ],
      "execution_count": null,
      "outputs": []
    },
    {
      "cell_type": "code",
      "metadata": {
        "id": "n-Pzk8lX7md_"
      },
      "source": [
        "\n",
        "#===============================================================================================Custom \n",
        "# custom activation function\n",
        "def custom_activation(output):\n",
        "    logexpsum = backend.sum(backend.exp(output), axis=-1, keepdims=True)\n",
        "    result = logexpsum / (logexpsum + 1.0)\n",
        "    return result\n",
        "\n",
        "# Define some loss and optimizer function\n",
        "Category_loss = 'sparse_categorical_crossentropy'\n",
        "Binary_loss = 'binary_crossentropy'\n",
        "\n",
        "# Adam optimazation\n",
        "def Adam_optimizer():\n",
        "    return Adam(lr = 0.0002, beta_1 = 0.5)\n",
        "\n",
        "# RMS optimazation\n",
        "def RMS_optimizer():\n",
        "    return RMSprop(lr = 0.0002, decay = 6e-8)\n",
        "\n",
        "\n",
        "#===============================================================================================Create discriminator ================================\n",
        "\n",
        "# define the standalone supervised and unsupervised discriminator models\n",
        "def define_discriminator(in_shape=(12, 1), n_classes=2):\n",
        "     # weight initialization\n",
        "    init = RandomNormal(stddev=0.02)\n",
        "    # image input\n",
        "    in_image = Input(shape=in_shape, name = 'Input')\n",
        "    \n",
        "    # downsample to \n",
        "    fe = Conv1D(128, 3, strides = 2, padding='same', kernel_initializer=init, name='conv2d_1')(in_image)\n",
        "    fe = LeakyReLU(alpha=0.2, name='Leaky_ReLU_1')(fe)\n",
        "    fe = Dropout(0.3, name='drop_1')(fe)\n",
        "    \n",
        "    # normal\n",
        "    fe = Conv1D(128, 3, strides = 2, padding='same', kernel_initializer=init, name='conv2d_2')(fe)\n",
        "    fe = BatchNormalization(name='Bat_Norm_1')(fe)\n",
        "    fe = LeakyReLU(alpha=0.2, name='Leaky_ReLU_2')(fe)\n",
        "    fe = Dropout(0.3, name='drop_2')(fe)\n",
        "    \n",
        "    # downsample to\n",
        "    fe = Conv1D(128, 3, strides = 2, padding='same', kernel_initializer=init, name='conv2d_3')(fe)\n",
        "    fe = BatchNormalization(name='Bat_Norm_2')(fe)\n",
        "    fe = LeakyReLU(alpha=0.2, name='Leaky_ReLU_3')(fe)\n",
        "    fe = Dropout(0.3, name='drop_3')(fe)\n",
        "    \n",
        "    # # normal\n",
        "    fe = Conv1D(256,3, padding='same', kernel_initializer=init, name='conv2d_4')(fe)\n",
        "    fe = BatchNormalization(name='Bat_Norm_3')(fe)\n",
        "    fe = LeakyReLU(alpha=0.2, name='Leaky_ReLU_4')(fe)\n",
        "    fe = Dropout(0.3, name='drop_4')(fe)\n",
        "    \n",
        "    # normal\n",
        "    fe = Conv1D(256,5, padding='same', kernel_initializer=init, name='conv2d_5')(fe)\n",
        "    fe = BatchNormalization(name='Bat_Norm_4')(fe)\n",
        "    fe = LeakyReLU(alpha=0.2, name='Leaky_ReLU_5')(fe)\n",
        "    fe = Dropout(0.3, name='drop_5')(fe)\n",
        "    \n",
        "    # flatten feature maps\n",
        "    fe = Flatten(name='Flatten_1')(fe)\n",
        "    \n",
        "    # dropout\n",
        "    fe = Dropout(0.4)(fe)\n",
        "    \n",
        "    # output layer nodes\n",
        "    fe = Dense(n_classes)(fe)\n",
        "    \n",
        "    # supervised output\n",
        "    c_out_layer = Activation('softmax')(fe)\n",
        "    # define and compile  discriminator model\n",
        "    c_model = Model(in_image, c_out_layer)\n",
        "    c_model.compile(loss=Category_loss, optimizer=Adam_optimizer(), metrics=['accuracy'])\n",
        "    \n",
        "    # unsupervised output\n",
        "    d_out_layer = Lambda(custom_activation)(fe)\n",
        "    # define and compile unsupervised discriminator model\n",
        "    d_model = Model(in_image, d_out_layer)\n",
        "    d_model.compile(loss=Binary_loss, optimizer=Adam_optimizer())\n",
        "    \n",
        "    return d_model, c_model\n",
        "\n",
        "\n",
        "#=============================================created gennerator ===================================================\n",
        "\n",
        "# define the standalone generator model\n",
        "def define_generator(latent_dim):\n",
        "    # weight initialization\n",
        "    init = RandomNormal(stddev=0.02)\n",
        "    depth = 1 #32\n",
        "    ks = 3\n",
        "    dropout = 0.25\n",
        "    dim = 12 #\n",
        "\n",
        "    # label input\n",
        "    in_label = Input(shape=(1,))\n",
        "    \n",
        "    # embedding for categorical input\n",
        "    li = Embedding(2, 50)(in_label)# ?\n",
        "    \n",
        "    # linear multiplication\n",
        "    n_nodes = 12 * 1\n",
        "    li = Dense(n_nodes)(li)\n",
        "    \n",
        "    # reshape to additional channel\n",
        "    li = Reshape((12, 1, 1))(li)\n",
        "    \n",
        "    # image generator input\n",
        "    in_lat = Input(shape=(latent_dim,))\n",
        "    # image generator input\n",
        "    in_lat = Input(shape=(latent_dim,), name='Generator_Input')\n",
        "    # foundation for 12x1\n",
        "    \n",
        "    gen = Dense(n_nodes, kernel_initializer=init, name='dense_4')(in_lat)\n",
        "    gen = Activation('relu', name='activation_1')(gen)\n",
        "    gen = Reshape((dim, 1, depth), name='reshape_2')(gen)\n",
        "    \n",
        "    # upsample to \n",
        "    gen = Conv2DTranspose(24, (5,5), strides=(1,1), padding='same', kernel_initializer=init, name='conv2d_transpose_1')(gen)\n",
        "    gen = BatchNormalization(name='Bat_Norm_5')(gen)\n",
        "    gen = Activation('relu', name='activation_2')(gen)\n",
        "    \n",
        "    # upsample to \n",
        "    gen = Conv2DTranspose(1, (5,5), strides=(1,1), padding='same', kernel_initializer=init, name='conv2d_transpose_2')(gen)\n",
        "    \n",
        "    # output    \n",
        "    out_layer = Activation('tanh', name='activation_3')(gen)\n",
        "    \n",
        "    # define model\n",
        "    model = Model(in_lat, out_layer)\n",
        "    \n",
        "    return model\n",
        "\n",
        "\n",
        "#========================================================================Define_gan========================\n",
        "\n",
        "# define the combined generator and discriminator model, for updating the generator\n",
        "def define_gan(g_model, d_model):\n",
        "    # make weights in the discriminator not trainable\n",
        "    d_model.trainable = False\n",
        "    \n",
        "    # connect image output from generator as input to discriminator\n",
        "    gan_output = d_model(g_model.output)\n",
        "    \n",
        "    # define gan model as taking noise and outputting a classification\n",
        "    model = Model(g_model.input, gan_output)\n",
        "    \n",
        "    # compile model\n",
        "    model.compile(loss=Binary_loss, optimizer=Adam_optimizer())\n",
        "    \n",
        "    return model\n",
        "\n",
        "\n",
        "#define more function\n",
        "\n",
        "# load Data\n",
        "def load_real_samples():\n",
        "    # load dataset\n",
        "    (trainX, trainy) = (X_train, y_train)\n",
        "    \n",
        "    # expand to 3d, e.g. add channels\n",
        "    X = expand_dims(trainX, axis=-1)\n",
        "    \n",
        "    print('Shape of training dataset: ', 'X_train: ',X.shape, 'y_train: ',trainy.shape)\n",
        "    return [X, trainy]\n",
        "\n",
        "# select a supervised subset of the dataset, ensures classes are balanced\n",
        "def select_supervised_samples(dataset, n_samples=800, n_classes=2):\n",
        "    X, y = dataset\n",
        "    X_list, y_list = list(), list()\n",
        "    n_per_class = int(n_samples / n_classes)\n",
        "    for i in range(n_classes):\n",
        "        # get all images for this class\n",
        "        X_with_class = X[y == i]\n",
        "        # choose random instances\n",
        "        ix = randint(0, len(X_with_class), n_per_class)\n",
        "        # add to list\n",
        "        [X_list.append(X_with_class[j]) for j in ix]\n",
        "        [y_list.append(i) for j in ix]\n",
        "    return asarray(X_list), asarray(y_list)\n",
        "\n",
        "# select real samples\n",
        "def generate_real_samples(dataset, n_samples):\n",
        "    # split into images and labels\n",
        "    images, labels = dataset\n",
        "    # choose random instances\n",
        "    ix = randint(0, images.shape[0], n_samples)\n",
        "    # select images and labels\n",
        "    X, labels = images[ix], labels[ix]\n",
        "    # generate class labels\n",
        "    y = ones((n_samples, 1))\n",
        "    return [X, labels], y\n",
        "\n",
        "# generate points in latent space as input for the generator\n",
        "def generate_latent_points(latent_dim, n_samples):\n",
        "    # generate points in the latent space\n",
        "    z_input = randn(latent_dim * n_samples)\n",
        "    # reshape into a batch of inputs for the network\n",
        "    z_input = z_input.reshape(n_samples, latent_dim)\n",
        "    return z_input\n",
        "\n",
        "# use the generator to generate n fake examples, with class labels\n",
        "def generate_fake_samples(generator, latent_dim, n_samples):\n",
        "    # generate points in latent space\n",
        "    z_input = generate_latent_points(latent_dim, n_samples)\n",
        "    # predict outputs\n",
        "    images = generator.predict(z_input)\n",
        "    # create class labels\n",
        "    y = zeros((n_samples, 1))\n",
        "    return images, y\n",
        "\n",
        "# generate samples and save as a plot and save the model\n",
        "def summarize_performance(step, g_model, c_model, latent_dim, dataset, n_samples=50):\n",
        "    # prepare fake examples\n",
        "    X, _ = generate_fake_samples(g_model, latent_dim, n_samples)\n",
        "    # scale from [-1,1] to [0,1]\n",
        "    X = (X + 1) / 2.0\n",
        "    \n",
        "    # evaluate the classifier model\n",
        "    X, y = dataset\n",
        "    _, acc = c_model.evaluate(X, y, verbose=0)\n",
        "    print('Classifier Accuracy: %.3f%%' % (acc * 100))\n",
        "    \n",
        "    # save the generator model\n",
        "    filename1 = 'g_model_SGAN_%04d.h5' % (step+1)\n",
        "    g_model.save('Save_Model/SGAN/' + filename1)\n",
        "    \n",
        "    # save the classifier model\n",
        "    filename2 = 'c_model_SGAN_%04d.h5' % (step+1)\n",
        "    c_model.save('Save_Model/SGAN/' + filename2)\n",
        "    print('>>Saved: %s, and %s' % (filename1, filename2))\n",
        "    print()\n",
        "#train model \n",
        "\n",
        "# train the generator and discriminator\n",
        "def train(g_model, d_model, c_model, gan_model, dataset, latent_dim, n_epochs=50, n_batch=100):\n",
        "    # select supervised dataset\n",
        "    X_sup, y_sup = select_supervised_samples(dataset)\n",
        "    print('Supervised dataset: ', X_sup.shape, y_sup.shape)\n",
        "    \n",
        "    # calculate the number of batches per training epoch\n",
        "    bat_per_epo = int(dataset[0].shape[0] / n_batch)\n",
        "    \n",
        "    # calculate the number of training iterations\n",
        "    n_steps = bat_per_epo * n_epochs\n",
        "    \n",
        "    # calculate the size of half a batch of samples\n",
        "    half_batch = int(n_batch / 2)\n",
        "    print('n_epochs = %d, n_batch = %d, half_batch = %d, bat_per_epo = %d, steps = %d' % (n_epochs, n_batch, half_batch, bat_per_epo, n_steps))\n",
        "    \n",
        "    # manually enumerate epochs\n",
        "    for i in range(n_steps):\n",
        "        # update supervised discriminator (c)\n",
        "        [Xsup_real, ysup_real], _ = generate_real_samples([X_sup, y_sup], half_batch)\n",
        "        c_loss, c_acc = c_model.train_on_batch(Xsup_real, ysup_real)\n",
        "        \n",
        "        # update unsupervised discriminator (d)\n",
        "        [X_real, _], y_real = generate_real_samples(dataset, half_batch)\n",
        "        d_loss1 = d_model.train_on_batch(X_real, y_real)\n",
        "        \n",
        "        X_fake, y_fake = generate_fake_samples(g_model, latent_dim, half_batch)\n",
        "        d_loss2 = d_model.train_on_batch(X_fake, y_fake)\n",
        "        \n",
        "        # update generator (g)\n",
        "        X_gan, y_gan = generate_latent_points(latent_dim, n_batch), ones((n_batch, 1))\n",
        "        g_loss = gan_model.train_on_batch(X_gan, y_gan)\n",
        "        \n",
        "        # summarize loss on this batch\n",
        "        print('step: %d,  c[%.3f, %.0f],  d[%.3f, %.3f],  g[%.3f]' % (i+1, c_loss, c_acc*100, d_loss1, d_loss2, g_loss))\n",
        "        \n",
        "        # evaluate the model performance every so often\n",
        "        if (i+1) % (bat_per_epo * 1) == 0:\n",
        "            summarize_performance(i, g_model, c_model, latent_dim, dataset)"
      ],
      "execution_count": null,
      "outputs": []
    },
    {
      "cell_type": "code",
      "metadata": {
        "id": "mDTSUy6BskEd"
      },
      "source": [],
      "execution_count": null,
      "outputs": []
    },
    {
      "cell_type": "code",
      "metadata": {
        "id": "rEwKgVzy7meH",
        "colab": {
          "base_uri": "https://localhost:8080/"
        },
        "outputId": "35e614fa-bd0d-4f29-bdb2-5ab520858adb"
      },
      "source": [
        "#==========================================Train Model=========================================\n",
        "\n",
        "# size of the latent space\n",
        "latent_dim = 100\n",
        "\n",
        "# create the discriminator models\n",
        "d_model, c_model = define_discriminator()\n",
        "\n",
        "# create the generator\n",
        "g_model = define_generator(latent_dim)\n",
        "\n",
        "# create the gan\n",
        "gan_model = define_gan(g_model, d_model)\n",
        "\n",
        "# load image data\n",
        "dataset = load_real_samples()\n",
        "\n",
        "# train model\n",
        "train(g_model, d_model, c_model, gan_model, dataset, latent_dim)"
      ],
      "execution_count": null,
      "outputs": [
        {
          "output_type": "stream",
          "text": [
            "Shape of training dataset:  X_train:  (688, 12, 1) y_train:  (688,)\n",
            "Supervised dataset:  (800, 12, 1) (800,)\n",
            "n_epochs = 50, n_batch = 100, half_batch = 50, bat_per_epo = 6, steps = 300\n",
            "WARNING:tensorflow:5 out of the last 1201 calls to <function Model.make_train_function.<locals>.train_function at 0x7f4e96c058c0> triggered tf.function retracing. Tracing is expensive and the excessive number of tracings could be due to (1) creating @tf.function repeatedly in a loop, (2) passing tensors with different shapes, (3) passing Python objects instead of tensors. For (1), please define your @tf.function outside of the loop. For (2), @tf.function has experimental_relax_shapes=True option that relaxes argument shapes that can avoid unnecessary retracing. For (3), please refer to https://www.tensorflow.org/guide/function#controlling_retracing and https://www.tensorflow.org/api_docs/python/tf/function for  more details.\n",
            "step: 1,  c[1.034, 56],  d[0.317, 1.850],  g[0.407]\n",
            "step: 2,  c[0.399, 82],  d[0.232, 1.511],  g[0.409]\n",
            "step: 3,  c[0.255, 86],  d[0.242, 1.126],  g[0.411]\n",
            "step: 4,  c[0.103, 98],  d[0.238, 0.773],  g[0.413]\n",
            "step: 5,  c[0.044, 100],  d[0.125, 0.473],  g[0.416]\n",
            "step: 6,  c[0.257, 94],  d[0.178, 0.376],  g[0.418]\n",
            "Classifier Accuracy: 45.058%\n",
            ">>Saved: g_model_SGAN_0006.h5, and c_model_SGAN_0006.h5\n",
            "\n",
            "step: 7,  c[0.666, 48],  d[0.169, 0.323],  g[0.419]\n",
            "step: 8,  c[0.021, 100],  d[0.055, 0.223],  g[0.422]\n",
            "step: 9,  c[0.177, 98],  d[0.087, 0.159],  g[0.423]\n",
            "step: 10,  c[0.003, 100],  d[0.135, 0.124],  g[0.427]\n",
            "step: 11,  c[0.080, 98],  d[0.029, 0.124],  g[0.428]\n",
            "step: 12,  c[0.157, 98],  d[0.055, 0.070],  g[0.428]\n",
            "Classifier Accuracy: 45.058%\n",
            ">>Saved: g_model_SGAN_0012.h5, and c_model_SGAN_0012.h5\n",
            "\n",
            "step: 13,  c[0.677, 49],  d[0.030, 0.083],  g[0.432]\n",
            "step: 14,  c[0.006, 100],  d[0.048, 0.092],  g[0.432]\n",
            "step: 15,  c[0.388, 96],  d[0.024, 0.040],  g[0.433]\n",
            "step: 16,  c[0.128, 96],  d[0.038, 0.044],  g[0.434]\n",
            "step: 17,  c[0.302, 96],  d[0.041, 0.036],  g[0.437]\n",
            "step: 18,  c[0.857, 92],  d[0.049, 0.043],  g[0.439]\n",
            "Classifier Accuracy: 45.058%\n",
            ">>Saved: g_model_SGAN_0018.h5, and c_model_SGAN_0018.h5\n",
            "\n",
            "step: 19,  c[0.671, 48],  d[0.023, 0.041],  g[0.438]\n",
            "step: 20,  c[0.032, 100],  d[0.028, 0.040],  g[0.441]\n",
            "step: 21,  c[0.413, 90],  d[0.027, 0.039],  g[0.441]\n",
            "step: 22,  c[0.206, 92],  d[0.018, 0.025],  g[0.445]\n",
            "step: 23,  c[0.277, 96],  d[0.022, 0.054],  g[0.445]\n",
            "step: 24,  c[0.049, 98],  d[0.015, 0.038],  g[0.445]\n",
            "Classifier Accuracy: 45.058%\n",
            ">>Saved: g_model_SGAN_0024.h5, and c_model_SGAN_0024.h5\n",
            "\n",
            "step: 25,  c[0.656, 49],  d[0.011, 0.046],  g[0.449]\n",
            "step: 26,  c[0.020, 100],  d[0.017, 0.023],  g[0.448]\n",
            "step: 27,  c[0.157, 96],  d[0.016, 0.024],  g[0.449]\n",
            "step: 28,  c[0.026, 100],  d[0.022, 0.026],  g[0.451]\n",
            "step: 29,  c[0.043, 96],  d[0.015, 0.026],  g[0.455]\n",
            "step: 30,  c[0.088, 96],  d[0.028, 0.017],  g[0.450]\n",
            "Classifier Accuracy: 45.058%\n",
            ">>Saved: g_model_SGAN_0030.h5, and c_model_SGAN_0030.h5\n",
            "\n",
            "step: 31,  c[0.664, 49],  d[0.015, 0.022],  g[0.451]\n",
            "step: 32,  c[0.099, 98],  d[0.018, 0.019],  g[0.457]\n",
            "step: 33,  c[0.152, 98],  d[0.034, 0.024],  g[0.453]\n",
            "step: 34,  c[0.087, 96],  d[0.008, 0.030],  g[0.459]\n",
            "step: 35,  c[0.012, 100],  d[0.010, 0.016],  g[0.456]\n",
            "step: 36,  c[0.099, 96],  d[0.011, 0.017],  g[0.458]\n",
            "Classifier Accuracy: 45.058%\n",
            ">>Saved: g_model_SGAN_0036.h5, and c_model_SGAN_0036.h5\n",
            "\n",
            "step: 37,  c[0.671, 49],  d[0.007, 0.026],  g[0.459]\n",
            "step: 38,  c[0.011, 100],  d[0.007, 0.016],  g[0.459]\n",
            "step: 39,  c[0.006, 100],  d[0.006, 0.018],  g[0.466]\n",
            "step: 40,  c[0.017, 100],  d[0.004, 0.019],  g[0.463]\n",
            "step: 41,  c[0.080, 98],  d[0.004, 0.017],  g[0.464]\n",
            "step: 42,  c[0.006, 100],  d[0.002, 0.015],  g[0.465]\n",
            "Classifier Accuracy: 45.058%\n",
            ">>Saved: g_model_SGAN_0042.h5, and c_model_SGAN_0042.h5\n",
            "\n",
            "step: 43,  c[0.692, 48],  d[0.004, 0.012],  g[0.462]\n",
            "step: 44,  c[0.003, 100],  d[0.007, 0.023],  g[0.462]\n",
            "step: 45,  c[0.276, 94],  d[0.004, 0.015],  g[0.463]\n",
            "step: 46,  c[0.234, 96],  d[0.008, 0.012],  g[0.463]\n",
            "step: 47,  c[0.075, 98],  d[0.007, 0.032],  g[0.476]\n",
            "step: 48,  c[0.086, 96],  d[0.006, 0.029],  g[0.462]\n",
            "Classifier Accuracy: 45.058%\n",
            ">>Saved: g_model_SGAN_0048.h5, and c_model_SGAN_0048.h5\n",
            "\n",
            "step: 49,  c[0.692, 49],  d[0.004, 0.013],  g[0.462]\n",
            "step: 50,  c[0.013, 100],  d[0.006, 0.016],  g[0.463]\n",
            "step: 51,  c[0.463, 94],  d[0.004, 0.009],  g[0.467]\n",
            "step: 52,  c[0.228, 98],  d[0.008, 0.013],  g[0.471]\n",
            "step: 53,  c[0.025, 98],  d[0.012, 0.011],  g[0.467]\n",
            "step: 54,  c[0.028, 100],  d[0.006, 0.010],  g[0.476]\n",
            "Classifier Accuracy: 45.058%\n",
            ">>Saved: g_model_SGAN_0054.h5, and c_model_SGAN_0054.h5\n",
            "\n",
            "step: 55,  c[0.710, 49],  d[0.010, 0.012],  g[0.476]\n",
            "step: 56,  c[0.096, 94],  d[0.004, 0.017],  g[0.464]\n",
            "step: 57,  c[0.009, 100],  d[0.004, 0.010],  g[0.468]\n",
            "step: 58,  c[0.056, 94],  d[0.005, 0.007],  g[0.472]\n",
            "step: 59,  c[0.010, 100],  d[0.004, 0.011],  g[0.477]\n",
            "step: 60,  c[0.266, 96],  d[0.006, 0.010],  g[0.481]\n",
            "Classifier Accuracy: 45.058%\n",
            ">>Saved: g_model_SGAN_0060.h5, and c_model_SGAN_0060.h5\n",
            "\n",
            "step: 61,  c[0.719, 49],  d[0.003, 0.010],  g[0.466]\n",
            "step: 62,  c[0.065, 98],  d[0.006, 0.011],  g[0.472]\n",
            "step: 63,  c[0.152, 96],  d[0.004, 0.009],  g[0.467]\n",
            "step: 64,  c[0.026, 98],  d[0.004, 0.014],  g[0.459]\n",
            "step: 65,  c[0.167, 96],  d[0.004, 0.008],  g[0.484]\n",
            "step: 66,  c[0.002, 100],  d[0.007, 0.017],  g[0.478]\n",
            "Classifier Accuracy: 45.058%\n",
            ">>Saved: g_model_SGAN_0066.h5, and c_model_SGAN_0066.h5\n",
            "\n",
            "step: 67,  c[0.728, 49],  d[0.008, 0.012],  g[0.468]\n",
            "step: 68,  c[0.360, 94],  d[0.009, 0.009],  g[0.481]\n",
            "step: 69,  c[0.432, 92],  d[0.008, 0.009],  g[0.481]\n",
            "step: 70,  c[0.245, 92],  d[0.004, 0.010],  g[0.477]\n",
            "step: 71,  c[0.077, 98],  d[0.004, 0.016],  g[0.483]\n",
            "step: 72,  c[0.010, 100],  d[0.003, 0.009],  g[0.487]\n",
            "Classifier Accuracy: 45.058%\n",
            ">>Saved: g_model_SGAN_0072.h5, and c_model_SGAN_0072.h5\n",
            "\n",
            "step: 73,  c[0.721, 49],  d[0.003, 0.007],  g[0.467]\n",
            "step: 74,  c[0.238, 98],  d[0.006, 0.011],  g[0.472]\n",
            "step: 75,  c[0.004, 100],  d[0.003, 0.016],  g[0.474]\n",
            "step: 76,  c[0.112, 98],  d[0.004, 0.008],  g[0.469]\n",
            "step: 77,  c[0.003, 100],  d[0.003, 0.009],  g[0.470]\n",
            "step: 78,  c[0.122, 98],  d[0.007, 0.007],  g[0.473]\n",
            "Classifier Accuracy: 45.058%\n",
            ">>Saved: g_model_SGAN_0078.h5, and c_model_SGAN_0078.h5\n",
            "\n",
            "step: 79,  c[0.732, 49],  d[0.004, 0.007],  g[0.474]\n",
            "step: 80,  c[0.007, 100],  d[0.005, 0.007],  g[0.458]\n",
            "step: 81,  c[0.061, 98],  d[0.003, 0.010],  g[0.480]\n",
            "step: 82,  c[0.007, 100],  d[0.005, 0.010],  g[0.461]\n",
            "step: 83,  c[0.043, 98],  d[0.003, 0.010],  g[0.472]\n",
            "step: 84,  c[0.130, 98],  d[0.006, 0.005],  g[0.471]\n",
            "Classifier Accuracy: 45.058%\n",
            ">>Saved: g_model_SGAN_0084.h5, and c_model_SGAN_0084.h5\n",
            "\n",
            "step: 85,  c[0.703, 49],  d[0.002, 0.012],  g[0.467]\n",
            "step: 86,  c[0.003, 100],  d[0.004, 0.010],  g[0.479]\n",
            "step: 87,  c[0.010, 100],  d[0.003, 0.021],  g[0.470]\n",
            "step: 88,  c[0.251, 98],  d[0.003, 0.007],  g[0.472]\n",
            "step: 89,  c[0.002, 100],  d[0.002, 0.013],  g[0.477]\n",
            "step: 90,  c[0.014, 100],  d[0.001, 0.009],  g[0.456]\n",
            "Classifier Accuracy: 45.058%\n",
            ">>Saved: g_model_SGAN_0090.h5, and c_model_SGAN_0090.h5\n",
            "\n",
            "step: 91,  c[0.708, 48],  d[0.002, 0.007],  g[0.469]\n",
            "step: 92,  c[0.005, 100],  d[0.004, 0.009],  g[0.449]\n",
            "step: 93,  c[0.014, 100],  d[0.003, 0.008],  g[0.466]\n",
            "step: 94,  c[0.017, 100],  d[0.004, 0.006],  g[0.455]\n",
            "step: 95,  c[0.250, 98],  d[0.003, 0.007],  g[0.460]\n",
            "step: 96,  c[0.004, 100],  d[0.004, 0.014],  g[0.462]\n",
            "Classifier Accuracy: 45.058%\n",
            ">>Saved: g_model_SGAN_0096.h5, and c_model_SGAN_0096.h5\n",
            "\n",
            "step: 97,  c[0.670, 49],  d[0.003, 0.010],  g[0.469]\n",
            "step: 98,  c[0.018, 100],  d[0.005, 0.006],  g[0.459]\n",
            "step: 99,  c[0.005, 100],  d[0.003, 0.041],  g[0.462]\n",
            "step: 100,  c[0.027, 100],  d[0.010, 0.010],  g[0.453]\n",
            "step: 101,  c[0.161, 96],  d[0.005, 0.008],  g[0.453]\n",
            "step: 102,  c[0.038, 98],  d[0.003, 0.016],  g[0.461]\n",
            "Classifier Accuracy: 45.058%\n",
            ">>Saved: g_model_SGAN_0102.h5, and c_model_SGAN_0102.h5\n",
            "\n",
            "step: 103,  c[0.662, 49],  d[0.008, 0.007],  g[0.458]\n",
            "step: 104,  c[0.027, 100],  d[0.003, 0.013],  g[0.443]\n",
            "step: 105,  c[0.039, 98],  d[0.003, 0.008],  g[0.432]\n",
            "step: 106,  c[0.008, 100],  d[0.013, 0.008],  g[0.451]\n",
            "step: 107,  c[0.143, 98],  d[0.002, 0.011],  g[0.423]\n",
            "step: 108,  c[0.006, 100],  d[0.003, 0.012],  g[0.444]\n",
            "Classifier Accuracy: 45.058%\n",
            ">>Saved: g_model_SGAN_0108.h5, and c_model_SGAN_0108.h5\n",
            "\n",
            "step: 109,  c[0.613, 49],  d[0.001, 0.009],  g[0.421]\n",
            "step: 110,  c[0.039, 98],  d[0.002, 0.012],  g[0.422]\n",
            "step: 111,  c[0.010, 100],  d[0.005, 0.009],  g[0.423]\n",
            "step: 112,  c[0.253, 98],  d[0.002, 0.029],  g[0.436]\n",
            "step: 113,  c[0.006, 100],  d[0.004, 0.006],  g[0.426]\n",
            "step: 114,  c[0.023, 100],  d[0.003, 0.005],  g[0.426]\n",
            "Classifier Accuracy: 45.058%\n",
            ">>Saved: g_model_SGAN_0114.h5, and c_model_SGAN_0114.h5\n",
            "\n",
            "step: 115,  c[0.592, 49],  d[0.007, 0.011],  g[0.434]\n",
            "step: 116,  c[0.002, 100],  d[0.005, 0.006],  g[0.436]\n",
            "step: 117,  c[0.027, 100],  d[0.004, 0.011],  g[0.442]\n",
            "step: 118,  c[0.149, 98],  d[0.004, 0.009],  g[0.431]\n",
            "step: 119,  c[0.279, 96],  d[0.005, 0.005],  g[0.413]\n",
            "step: 120,  c[0.138, 98],  d[0.007, 0.007],  g[0.400]\n",
            "Classifier Accuracy: 45.058%\n",
            ">>Saved: g_model_SGAN_0120.h5, and c_model_SGAN_0120.h5\n",
            "\n",
            "step: 121,  c[0.546, 49],  d[0.007, 0.013],  g[0.415]\n",
            "step: 122,  c[0.005, 100],  d[0.009, 0.006],  g[0.398]\n",
            "step: 123,  c[0.020, 100],  d[0.002, 0.011],  g[0.406]\n",
            "step: 124,  c[0.010, 100],  d[0.002, 0.008],  g[0.406]\n",
            "step: 125,  c[0.016, 100],  d[0.005, 0.005],  g[0.424]\n",
            "step: 126,  c[0.213, 98],  d[0.001, 0.009],  g[0.404]\n",
            "Classifier Accuracy: 46.657%\n",
            ">>Saved: g_model_SGAN_0126.h5, and c_model_SGAN_0126.h5\n",
            "\n",
            "step: 127,  c[0.496, 50],  d[0.002, 0.003],  g[0.402]\n",
            "step: 128,  c[0.040, 100],  d[0.003, 0.006],  g[0.418]\n",
            "step: 129,  c[0.226, 98],  d[0.008, 0.006],  g[0.408]\n",
            "step: 130,  c[0.147, 98],  d[0.001, 0.013],  g[0.407]\n",
            "step: 131,  c[0.254, 96],  d[0.003, 0.005],  g[0.393]\n",
            "step: 132,  c[0.038, 98],  d[0.008, 0.007],  g[0.386]\n",
            "Classifier Accuracy: 77.035%\n",
            ">>Saved: g_model_SGAN_0132.h5, and c_model_SGAN_0132.h5\n",
            "\n",
            "step: 133,  c[0.465, 78],  d[0.006, 0.006],  g[0.403]\n",
            "step: 134,  c[0.021, 100],  d[0.003, 0.004],  g[0.401]\n",
            "step: 135,  c[0.014, 100],  d[0.003, 0.005],  g[0.380]\n",
            "step: 136,  c[0.002, 100],  d[0.005, 0.005],  g[0.381]\n",
            "step: 137,  c[0.051, 98],  d[0.002, 0.015],  g[0.375]\n",
            "step: 138,  c[0.007, 100],  d[0.002, 0.005],  g[0.372]\n",
            "Classifier Accuracy: 98.837%\n",
            ">>Saved: g_model_SGAN_0138.h5, and c_model_SGAN_0138.h5\n",
            "\n",
            "step: 139,  c[0.363, 99],  d[0.002, 0.006],  g[0.386]\n",
            "step: 140,  c[0.259, 96],  d[0.002, 0.005],  g[0.381]\n",
            "step: 141,  c[0.007, 100],  d[0.003, 0.006],  g[0.381]\n",
            "step: 142,  c[0.126, 96],  d[0.003, 0.007],  g[0.345]\n",
            "step: 143,  c[0.052, 98],  d[0.003, 0.014],  g[0.363]\n",
            "step: 144,  c[0.019, 100],  d[0.002, 0.007],  g[0.381]\n",
            "Classifier Accuracy: 98.837%\n",
            ">>Saved: g_model_SGAN_0144.h5, and c_model_SGAN_0144.h5\n",
            "\n",
            "step: 145,  c[0.354, 99],  d[0.004, 0.007],  g[0.362]\n",
            "step: 146,  c[0.178, 98],  d[0.011, 0.016],  g[0.356]\n",
            "step: 147,  c[0.189, 98],  d[0.004, 0.005],  g[0.384]\n",
            "step: 148,  c[0.270, 98],  d[0.002, 0.007],  g[0.357]\n",
            "step: 149,  c[0.018, 100],  d[0.003, 0.013],  g[0.360]\n",
            "step: 150,  c[0.104, 98],  d[0.003, 0.005],  g[0.400]\n",
            "Classifier Accuracy: 98.837%\n",
            ">>Saved: g_model_SGAN_0150.h5, and c_model_SGAN_0150.h5\n",
            "\n",
            "step: 151,  c[0.317, 99],  d[0.005, 0.005],  g[0.396]\n",
            "step: 152,  c[0.007, 100],  d[0.010, 0.017],  g[0.343]\n",
            "step: 153,  c[0.035, 98],  d[0.005, 0.018],  g[0.368]\n",
            "step: 154,  c[0.221, 94],  d[0.008, 0.004],  g[0.382]\n",
            "step: 155,  c[0.150, 98],  d[0.019, 0.007],  g[0.336]\n",
            "step: 156,  c[0.033, 98],  d[0.003, 0.004],  g[0.335]\n",
            "Classifier Accuracy: 98.837%\n",
            ">>Saved: g_model_SGAN_0156.h5, and c_model_SGAN_0156.h5\n",
            "\n",
            "step: 157,  c[0.267, 99],  d[0.003, 0.007],  g[0.306]\n",
            "step: 158,  c[0.121, 98],  d[0.005, 0.004],  g[0.308]\n",
            "step: 159,  c[0.207, 96],  d[0.006, 0.008],  g[0.315]\n",
            "step: 160,  c[0.046, 98],  d[0.003, 0.029],  g[0.331]\n",
            "step: 161,  c[0.244, 96],  d[0.006, 0.003],  g[0.390]\n",
            "step: 162,  c[0.047, 98],  d[0.012, 0.003],  g[0.318]\n",
            "Classifier Accuracy: 98.837%\n",
            ">>Saved: g_model_SGAN_0162.h5, and c_model_SGAN_0162.h5\n",
            "\n",
            "step: 163,  c[0.236, 99],  d[0.002, 0.004],  g[0.309]\n",
            "step: 164,  c[0.013, 100],  d[0.003, 0.004],  g[0.281]\n",
            "step: 165,  c[0.005, 100],  d[0.001, 0.002],  g[0.269]\n",
            "step: 166,  c[0.014, 100],  d[0.001, 0.006],  g[0.256]\n",
            "step: 167,  c[0.055, 98],  d[0.002, 0.003],  g[0.262]\n",
            "step: 168,  c[0.006, 100],  d[0.002, 0.004],  g[0.259]\n",
            "Classifier Accuracy: 98.837%\n",
            ">>Saved: g_model_SGAN_0168.h5, and c_model_SGAN_0168.h5\n",
            "\n",
            "step: 169,  c[0.162, 99],  d[0.002, 0.004],  g[0.268]\n",
            "step: 170,  c[0.458, 96],  d[0.001, 0.003],  g[0.265]\n",
            "step: 171,  c[0.092, 98],  d[0.001, 0.003],  g[0.292]\n",
            "step: 172,  c[0.019, 100],  d[0.018, 0.004],  g[0.241]\n",
            "step: 173,  c[0.021, 100],  d[0.002, 0.004],  g[0.232]\n",
            "step: 174,  c[0.016, 100],  d[0.001, 0.003],  g[0.233]\n",
            "Classifier Accuracy: 98.837%\n",
            ">>Saved: g_model_SGAN_0174.h5, and c_model_SGAN_0174.h5\n",
            "\n",
            "step: 175,  c[0.120, 99],  d[0.001, 0.015],  g[0.227]\n",
            "step: 176,  c[0.008, 100],  d[0.008, 0.003],  g[0.197]\n",
            "step: 177,  c[0.008, 100],  d[0.002, 0.004],  g[0.216]\n",
            "step: 178,  c[0.209, 98],  d[0.001, 0.007],  g[0.193]\n",
            "step: 179,  c[0.116, 98],  d[0.001, 0.004],  g[0.211]\n",
            "step: 180,  c[0.007, 100],  d[0.003, 0.009],  g[0.234]\n",
            "Classifier Accuracy: 98.837%\n",
            ">>Saved: g_model_SGAN_0180.h5, and c_model_SGAN_0180.h5\n",
            "\n",
            "step: 181,  c[0.108, 99],  d[0.005, 0.003],  g[0.195]\n",
            "step: 182,  c[0.023, 98],  d[0.002, 0.005],  g[0.205]\n",
            "step: 183,  c[0.004, 100],  d[0.010, 0.010],  g[0.180]\n",
            "step: 184,  c[0.097, 98],  d[0.004, 0.003],  g[0.208]\n",
            "step: 185,  c[0.199, 98],  d[0.001, 0.005],  g[0.191]\n",
            "step: 186,  c[0.018, 100],  d[0.002, 0.004],  g[0.207]\n",
            "Classifier Accuracy: 98.837%\n",
            ">>Saved: g_model_SGAN_0186.h5, and c_model_SGAN_0186.h5\n",
            "\n",
            "step: 187,  c[0.106, 99],  d[0.001, 0.003],  g[0.173]\n",
            "step: 188,  c[0.140, 96],  d[0.003, 0.004],  g[0.221]\n",
            "step: 189,  c[0.046, 98],  d[0.002, 0.014],  g[0.215]\n",
            "step: 190,  c[0.033, 98],  d[0.003, 0.003],  g[0.194]\n",
            "step: 191,  c[0.009, 100],  d[0.007, 0.005],  g[0.206]\n",
            "step: 192,  c[0.016, 100],  d[0.002, 0.015],  g[0.233]\n",
            "Classifier Accuracy: 98.837%\n",
            ">>Saved: g_model_SGAN_0192.h5, and c_model_SGAN_0192.h5\n",
            "\n",
            "step: 193,  c[0.097, 99],  d[0.006, 0.005],  g[0.189]\n",
            "step: 194,  c[0.011, 100],  d[0.005, 0.005],  g[0.151]\n",
            "step: 195,  c[0.020, 98],  d[0.001, 0.003],  g[0.190]\n",
            "step: 196,  c[0.003, 100],  d[0.001, 0.004],  g[0.150]\n",
            "step: 197,  c[0.021, 100],  d[0.001, 0.003],  g[0.173]\n",
            "step: 198,  c[0.022, 100],  d[0.002, 0.003],  g[0.137]\n",
            "Classifier Accuracy: 98.837%\n",
            ">>Saved: g_model_SGAN_0198.h5, and c_model_SGAN_0198.h5\n",
            "\n",
            "step: 199,  c[0.063, 99],  d[0.000, 0.004],  g[0.150]\n",
            "step: 200,  c[0.102, 98],  d[0.001, 0.002],  g[0.149]\n",
            "step: 201,  c[0.152, 98],  d[0.001, 0.012],  g[0.121]\n",
            "step: 202,  c[0.007, 100],  d[0.003, 0.004],  g[0.186]\n",
            "step: 203,  c[0.004, 100],  d[0.004, 0.004],  g[0.177]\n",
            "step: 204,  c[0.016, 100],  d[0.002, 0.002],  g[0.142]\n",
            "Classifier Accuracy: 98.837%\n",
            ">>Saved: g_model_SGAN_0204.h5, and c_model_SGAN_0204.h5\n",
            "\n",
            "step: 205,  c[0.063, 99],  d[0.001, 0.005],  g[0.150]\n",
            "step: 206,  c[0.006, 100],  d[0.001, 0.005],  g[0.177]\n",
            "step: 207,  c[0.002, 100],  d[0.001, 0.010],  g[0.139]\n",
            "step: 208,  c[0.096, 98],  d[0.001, 0.003],  g[0.142]\n",
            "step: 209,  c[0.010, 100],  d[0.002, 0.003],  g[0.197]\n",
            "step: 210,  c[0.008, 100],  d[0.003, 0.002],  g[0.165]\n",
            "Classifier Accuracy: 98.837%\n",
            ">>Saved: g_model_SGAN_0210.h5, and c_model_SGAN_0210.h5\n",
            "\n",
            "step: 211,  c[0.056, 99],  d[0.001, 0.003],  g[0.140]\n",
            "step: 212,  c[0.009, 100],  d[0.001, 0.005],  g[0.144]\n",
            "step: 213,  c[0.005, 100],  d[0.003, 0.002],  g[0.165]\n",
            "step: 214,  c[0.004, 100],  d[0.001, 0.004],  g[0.113]\n",
            "step: 215,  c[0.111, 98],  d[0.001, 0.004],  g[0.115]\n",
            "step: 216,  c[0.002, 100],  d[0.011, 0.004],  g[0.100]\n",
            "Classifier Accuracy: 98.837%\n",
            ">>Saved: g_model_SGAN_0216.h5, and c_model_SGAN_0216.h5\n",
            "\n",
            "step: 217,  c[0.056, 99],  d[0.001, 0.005],  g[0.085]\n",
            "step: 218,  c[0.004, 100],  d[0.001, 0.011],  g[0.113]\n",
            "step: 219,  c[0.053, 98],  d[0.000, 0.005],  g[0.152]\n",
            "step: 220,  c[0.008, 100],  d[0.001, 0.002],  g[0.115]\n",
            "step: 221,  c[0.005, 100],  d[0.001, 0.001],  g[0.122]\n",
            "step: 222,  c[0.189, 96],  d[0.002, 0.004],  g[0.133]\n",
            "Classifier Accuracy: 98.837%\n",
            ">>Saved: g_model_SGAN_0222.h5, and c_model_SGAN_0222.h5\n",
            "\n",
            "step: 223,  c[0.076, 99],  d[0.002, 0.004],  g[0.147]\n",
            "step: 224,  c[0.081, 98],  d[0.005, 0.001],  g[0.193]\n",
            "step: 225,  c[0.246, 94],  d[0.003, 0.003],  g[0.156]\n",
            "step: 226,  c[0.026, 100],  d[0.001, 0.002],  g[0.142]\n",
            "step: 227,  c[0.039, 100],  d[0.002, 0.002],  g[0.130]\n",
            "step: 228,  c[0.218, 94],  d[0.002, 0.004],  g[0.134]\n",
            "Classifier Accuracy: 98.837%\n",
            ">>Saved: g_model_SGAN_0228.h5, and c_model_SGAN_0228.h5\n",
            "\n",
            "step: 229,  c[0.053, 99],  d[0.001, 0.004],  g[0.126]\n",
            "step: 230,  c[0.083, 98],  d[0.001, 0.003],  g[0.125]\n",
            "step: 231,  c[0.096, 98],  d[0.001, 0.004],  g[0.126]\n",
            "step: 232,  c[0.013, 100],  d[0.002, 0.006],  g[0.122]\n",
            "step: 233,  c[0.186, 96],  d[0.001, 0.003],  g[0.104]\n",
            "step: 234,  c[0.009, 100],  d[0.001, 0.002],  g[0.111]\n",
            "Classifier Accuracy: 98.837%\n",
            ">>Saved: g_model_SGAN_0234.h5, and c_model_SGAN_0234.h5\n",
            "\n",
            "step: 235,  c[0.067, 99],  d[0.001, 0.006],  g[0.145]\n",
            "step: 236,  c[0.011, 100],  d[0.002, 0.002],  g[0.100]\n",
            "step: 237,  c[0.024, 100],  d[0.001, 0.003],  g[0.113]\n",
            "step: 238,  c[0.009, 100],  d[0.002, 0.035],  g[0.249]\n",
            "step: 239,  c[0.013, 100],  d[0.005, 0.002],  g[0.361]\n",
            "step: 240,  c[0.089, 98],  d[0.010, 0.003],  g[0.191]\n",
            "Classifier Accuracy: 98.837%\n",
            ">>Saved: g_model_SGAN_0240.h5, and c_model_SGAN_0240.h5\n",
            "\n",
            "step: 241,  c[0.066, 99],  d[0.001, 0.002],  g[0.187]\n",
            "step: 242,  c[0.057, 96],  d[0.001, 0.002],  g[0.161]\n",
            "step: 243,  c[0.267, 96],  d[0.001, 0.044],  g[0.229]\n",
            "step: 244,  c[0.027, 100],  d[0.003, 0.002],  g[0.363]\n",
            "step: 245,  c[0.045, 98],  d[0.007, 0.002],  g[0.195]\n",
            "step: 246,  c[0.162, 96],  d[0.001, 0.018],  g[0.257]\n",
            "Classifier Accuracy: 98.837%\n",
            ">>Saved: g_model_SGAN_0246.h5, and c_model_SGAN_0246.h5\n",
            "\n",
            "step: 247,  c[0.055, 99],  d[0.003, 0.002],  g[0.265]\n",
            "step: 248,  c[0.023, 98],  d[0.001, 0.001],  g[0.252]\n",
            "step: 249,  c[0.012, 100],  d[0.003, 0.001],  g[0.200]\n",
            "step: 250,  c[0.008, 100],  d[0.002, 0.001],  g[0.201]\n",
            "step: 251,  c[0.117, 98],  d[0.003, 0.001],  g[0.200]\n",
            "step: 252,  c[0.441, 96],  d[0.001, 0.003],  g[0.341]\n",
            "Classifier Accuracy: 98.837%\n",
            ">>Saved: g_model_SGAN_0252.h5, and c_model_SGAN_0252.h5\n",
            "\n",
            "step: 253,  c[0.073, 99],  d[0.002, 0.003],  g[0.211]\n",
            "step: 254,  c[0.010, 100],  d[0.001, 0.001],  g[0.254]\n",
            "step: 255,  c[0.060, 98],  d[0.007, 0.002],  g[0.184]\n",
            "step: 256,  c[0.007, 100],  d[0.001, 0.005],  g[0.162]\n",
            "step: 257,  c[0.148, 96],  d[0.001, 0.002],  g[0.194]\n",
            "step: 258,  c[0.011, 100],  d[0.001, 0.002],  g[0.208]\n",
            "Classifier Accuracy: 98.837%\n",
            ">>Saved: g_model_SGAN_0258.h5, and c_model_SGAN_0258.h5\n",
            "\n",
            "step: 259,  c[0.074, 99],  d[0.001, 0.002],  g[0.107]\n",
            "step: 260,  c[0.012, 100],  d[0.000, 0.001],  g[0.183]\n",
            "step: 261,  c[0.010, 100],  d[0.001, 0.002],  g[0.128]\n",
            "step: 262,  c[0.007, 100],  d[0.001, 0.002],  g[0.134]\n",
            "step: 263,  c[0.024, 100],  d[0.001, 0.002],  g[0.148]\n",
            "step: 264,  c[0.014, 100],  d[0.000, 0.002],  g[0.186]\n",
            "Classifier Accuracy: 98.837%\n",
            ">>Saved: g_model_SGAN_0264.h5, and c_model_SGAN_0264.h5\n",
            "\n",
            "step: 265,  c[0.066, 99],  d[0.001, 0.002],  g[0.145]\n",
            "step: 266,  c[0.006, 100],  d[0.000, 0.002],  g[0.105]\n",
            "step: 267,  c[0.003, 100],  d[0.000, 0.001],  g[0.131]\n",
            "step: 268,  c[0.004, 100],  d[0.000, 0.002],  g[0.175]\n",
            "step: 269,  c[0.010, 100],  d[0.001, 0.002],  g[0.123]\n",
            "step: 270,  c[0.002, 100],  d[0.001, 0.002],  g[0.112]\n",
            "Classifier Accuracy: 98.837%\n",
            ">>Saved: g_model_SGAN_0270.h5, and c_model_SGAN_0270.h5\n",
            "\n",
            "step: 271,  c[0.072, 99],  d[0.000, 0.002],  g[0.121]\n",
            "step: 272,  c[0.002, 100],  d[0.000, 0.003],  g[0.116]\n",
            "step: 273,  c[0.006, 100],  d[0.000, 0.002],  g[0.126]\n",
            "step: 274,  c[0.169, 98],  d[0.000, 0.002],  g[0.113]\n",
            "step: 275,  c[0.010, 100],  d[0.000, 0.001],  g[0.141]\n",
            "step: 276,  c[0.143, 98],  d[0.000, 0.003],  g[0.088]\n",
            "Classifier Accuracy: 98.837%\n",
            ">>Saved: g_model_SGAN_0276.h5, and c_model_SGAN_0276.h5\n",
            "\n",
            "step: 277,  c[0.067, 99],  d[0.001, 0.002],  g[0.102]\n",
            "step: 278,  c[0.115, 98],  d[0.000, 0.002],  g[0.125]\n",
            "step: 279,  c[0.125, 96],  d[0.001, 0.003],  g[0.127]\n",
            "step: 280,  c[0.002, 100],  d[0.001, 0.003],  g[0.104]\n",
            "step: 281,  c[0.004, 100],  d[0.001, 0.002],  g[0.080]\n",
            "step: 282,  c[0.093, 98],  d[0.001, 0.002],  g[0.189]\n",
            "Classifier Accuracy: 98.837%\n",
            ">>Saved: g_model_SGAN_0282.h5, and c_model_SGAN_0282.h5\n",
            "\n",
            "step: 283,  c[0.074, 99],  d[0.003, 0.002],  g[0.138]\n",
            "step: 284,  c[0.015, 100],  d[0.001, 0.002],  g[0.111]\n",
            "step: 285,  c[0.007, 100],  d[0.001, 0.001],  g[0.126]\n",
            "step: 286,  c[0.006, 100],  d[0.001, 0.002],  g[0.088]\n",
            "step: 287,  c[0.091, 98],  d[0.001, 0.002],  g[0.189]\n",
            "step: 288,  c[0.088, 98],  d[0.001, 0.003],  g[0.162]\n",
            "Classifier Accuracy: 98.837%\n",
            ">>Saved: g_model_SGAN_0288.h5, and c_model_SGAN_0288.h5\n",
            "\n",
            "step: 289,  c[0.073, 99],  d[0.002, 0.002],  g[0.210]\n",
            "step: 290,  c[0.008, 100],  d[0.001, 0.001],  g[0.145]\n",
            "step: 291,  c[0.003, 100],  d[0.001, 0.003],  g[0.191]\n",
            "step: 292,  c[0.009, 100],  d[0.001, 0.002],  g[0.202]\n",
            "step: 293,  c[0.006, 100],  d[0.002, 0.002],  g[0.171]\n",
            "step: 294,  c[0.012, 100],  d[0.001, 0.001],  g[0.207]\n",
            "Classifier Accuracy: 98.837%\n",
            ">>Saved: g_model_SGAN_0294.h5, and c_model_SGAN_0294.h5\n",
            "\n",
            "step: 295,  c[0.077, 99],  d[0.001, 0.001],  g[0.142]\n",
            "step: 296,  c[0.012, 100],  d[0.000, 0.001],  g[0.126]\n",
            "step: 297,  c[0.154, 98],  d[0.000, 0.001],  g[0.131]\n",
            "step: 298,  c[0.044, 98],  d[0.000, 0.001],  g[0.082]\n",
            "step: 299,  c[0.005, 100],  d[0.001, 0.003],  g[0.107]\n",
            "step: 300,  c[0.238, 96],  d[0.000, 0.001],  g[0.180]\n",
            "Classifier Accuracy: 98.837%\n",
            ">>Saved: g_model_SGAN_0300.h5, and c_model_SGAN_0300.h5\n",
            "\n"
          ],
          "name": "stdout"
        }
      ]
    },
    {
      "cell_type": "code",
      "metadata": {
        "id": "6Pp5uIMh7meL"
      },
      "source": [],
      "execution_count": null,
      "outputs": []
    },
    {
      "cell_type": "code",
      "metadata": {
        "id": "3WN1jHTs7meM",
        "colab": {
          "base_uri": "https://localhost:8080/"
        },
        "outputId": "21a12662-bd6b-4126-c642-6121841b108b"
      },
      "source": [
        "# load the model#==========================================Test Model=========================================\n",
        "\n",
        "# example of loading the classifier model and generating images\n",
        "from keras.models import load_model\n",
        "\n",
        "# load the model\n",
        "gan_model = load_model('Save_Model/SGAN/c_model_SGAN_0300.h5')\n",
        "gan_model.summary()\n",
        "# # load the dataset\n",
        "(trainX, trainy), (testX, testy) = (X_train, y_train), (X_test, y_test)\n",
        "\n",
        "# # expand to 3d, e.g. add channels\n",
        "trainX = expand_dims(trainX, axis=-1)\n",
        "testX = expand_dims(testX, axis=-1)\n",
        "\n",
        "# # evaluate the model\n",
        "_, train_acc = gan_model.evaluate(trainX, trainy, verbose=0)\n",
        "print('Train Accuracy: %.3f%%' % (train_acc * 100))\n",
        "\n",
        "_, test_acc = gan_model.evaluate(testX, testy, verbose=0)\n",
        "print('Test Accuracy: %.3f%%' % (test_acc * 100))"
      ],
      "execution_count": null,
      "outputs": [
        {
          "output_type": "stream",
          "text": [
            "WARNING:tensorflow:Error in loading the saved optimizer state. As a result, your model is starting with a freshly initialized optimizer.\n",
            "Model: \"model_4\"\n",
            "_________________________________________________________________\n",
            "Layer (type)                 Output Shape              Param #   \n",
            "=================================================================\n",
            "Input (InputLayer)           [(None, 12, 1)]           0         \n",
            "_________________________________________________________________\n",
            "conv2d_1 (Conv1D)            (None, 6, 128)            512       \n",
            "_________________________________________________________________\n",
            "Leaky_ReLU_1 (LeakyReLU)     (None, 6, 128)            0         \n",
            "_________________________________________________________________\n",
            "drop_1 (Dropout)             (None, 6, 128)            0         \n",
            "_________________________________________________________________\n",
            "conv2d_2 (Conv1D)            (None, 3, 128)            49280     \n",
            "_________________________________________________________________\n",
            "Bat_Norm_1 (BatchNormalizati (None, 3, 128)            512       \n",
            "_________________________________________________________________\n",
            "Leaky_ReLU_2 (LeakyReLU)     (None, 3, 128)            0         \n",
            "_________________________________________________________________\n",
            "drop_2 (Dropout)             (None, 3, 128)            0         \n",
            "_________________________________________________________________\n",
            "conv2d_3 (Conv1D)            (None, 2, 128)            49280     \n",
            "_________________________________________________________________\n",
            "Bat_Norm_2 (BatchNormalizati (None, 2, 128)            512       \n",
            "_________________________________________________________________\n",
            "Leaky_ReLU_3 (LeakyReLU)     (None, 2, 128)            0         \n",
            "_________________________________________________________________\n",
            "drop_3 (Dropout)             (None, 2, 128)            0         \n",
            "_________________________________________________________________\n",
            "conv2d_4 (Conv1D)            (None, 2, 256)            98560     \n",
            "_________________________________________________________________\n",
            "Bat_Norm_3 (BatchNormalizati (None, 2, 256)            1024      \n",
            "_________________________________________________________________\n",
            "Leaky_ReLU_4 (LeakyReLU)     (None, 2, 256)            0         \n",
            "_________________________________________________________________\n",
            "drop_4 (Dropout)             (None, 2, 256)            0         \n",
            "_________________________________________________________________\n",
            "conv2d_5 (Conv1D)            (None, 2, 256)            327936    \n",
            "_________________________________________________________________\n",
            "Bat_Norm_4 (BatchNormalizati (None, 2, 256)            1024      \n",
            "_________________________________________________________________\n",
            "Leaky_ReLU_5 (LeakyReLU)     (None, 2, 256)            0         \n",
            "_________________________________________________________________\n",
            "drop_5 (Dropout)             (None, 2, 256)            0         \n",
            "_________________________________________________________________\n",
            "Flatten_1 (Flatten)          (None, 512)               0         \n",
            "_________________________________________________________________\n",
            "dropout_1 (Dropout)          (None, 512)               0         \n",
            "_________________________________________________________________\n",
            "dense_2 (Dense)              (None, 2)                 1026      \n",
            "_________________________________________________________________\n",
            "activation_1 (Activation)    (None, 2)                 0         \n",
            "=================================================================\n",
            "Total params: 529,666\n",
            "Trainable params: 0\n",
            "Non-trainable params: 529,666\n",
            "_________________________________________________________________\n",
            "Train Accuracy: 98.837%\n",
            "Test Accuracy: 99.422%\n"
          ],
          "name": "stdout"
        }
      ]
    },
    {
      "cell_type": "code",
      "metadata": {
        "id": "gsw0WOCuDNa8"
      },
      "source": [],
      "execution_count": null,
      "outputs": []
    },
    {
      "cell_type": "code",
      "metadata": {
        "colab": {
          "base_uri": "https://localhost:8080/"
        },
        "id": "1DzDSpFzSo6Q",
        "outputId": "eb8966b8-2f75-4883-876f-fad28d69574f"
      },
      "source": [
        "# Test model\n",
        "test_model = gan_model.evaluate(X_test, y_test)"
      ],
      "execution_count": null,
      "outputs": [
        {
          "output_type": "stream",
          "text": [
            "6/6 [==============================] - 0s 6ms/step - loss: 0.0369 - accuracy: 0.9942\n"
          ],
          "name": "stdout"
        }
      ]
    },
    {
      "cell_type": "code",
      "metadata": {
        "id": "iwaUqzWx7meM"
      },
      "source": [
        "import matplotlib.pyplot as plt\n",
        "import pandas as pd\n",
        "from imblearn.metrics import classification_report_imbalanced\n",
        "import seaborn as sns\n",
        "from sklearn.metrics import f1_score,accuracy_score,confusion_matrix\n",
        "import itertools\n",
        "\n",
        "import matplotlib as mpl\n",
        "import matplotlib.pyplot as plt\n",
        "import numpy as np\n",
        "from matplotlib import cm\n",
        "\n",
        "def plot_confusion_matrix(cm, classes=None,\n",
        "                          normalize=False,\n",
        "                          title='Confusion matrix',\n",
        "                          cmap=plt.cm.Blues):\n",
        "    \n",
        "    \"\"\"\n",
        "    This function prints and plots the confusion matrix.\n",
        "    Normalization can be applied by setting `normalize=True`.\n",
        "    \"\"\"\n",
        "    mpl.rcParams.update(mpl.rcParamsDefault)\n",
        "    if normalize:\n",
        "        cm = cm.astype('float') / cm.sum(axis=1)[:, np.newaxis]\n",
        "        print(\"Normalized confusion matrix\")\n",
        "    else:\n",
        "        print('Confusion matrix, without normalization')\n",
        " \n",
        "    print(cm)\n",
        "    plt.figure(figsize=(5, 5)) \n",
        "    plt.imshow(cm, interpolation='nearest', cmap=cmap)\n",
        "    plt.title(title)\n",
        "    plt.colorbar(shrink=0.75)\n",
        "    tick_marks = np.arange(len(list(range(cm.shape[0]))))\n",
        "#     plt.xticks(tick_marks, classes, rotation=45)\n",
        "    plt.xticks(tick_marks, classes)\n",
        "    plt.yticks(tick_marks, classes,rotation=90)\n",
        " \n",
        "    fmt = '.2f' if normalize else 'd'\n",
        "    thresh = cm.max() / 2.\n",
        "    for i, j in itertools.product(range(cm.shape[0]), range(cm.shape[1])):\n",
        "        plt.text(j, i, format(cm[i, j], fmt),\n",
        "                 horizontalalignment=\"center\",\n",
        "                 color=\"white\" if cm[i, j] > thresh else \"black\")\n",
        " \n",
        "    plt.ylabel('True label')\n",
        "    plt.xlabel('Predicted label')\n",
        "    plt.tight_layout()\n",
        "    return plt\n"
      ],
      "execution_count": null,
      "outputs": []
    },
    {
      "cell_type": "code",
      "metadata": {
        "colab": {
          "base_uri": "https://localhost:8080/",
          "height": 481
        },
        "id": "MARH95wsQIma",
        "outputId": "1bfad8f3-4b4d-4847-f0e1-e51bc3b48f23"
      },
      "source": [
        "pred = np.argmax(gan_model.predict(testX), axis=1).reshape(-1,1)\n",
        "# utils.confusion_plot(pred,data.y_test)\n",
        "plot_confusion_matrix(confusion_matrix(testy,pred),  normalize=True,title=None)\n",
        "plt.savefig(\"confusion matrixa.pdf\")"
      ],
      "execution_count": null,
      "outputs": [
        {
          "output_type": "stream",
          "text": [
            "Normalized confusion matrix\n",
            "[[1.         0.        ]\n",
            " [0.01234568 0.98765432]]\n"
          ],
          "name": "stdout"
        },
        {
          "output_type": "display_data",
          "data": {
            "image/png": "[encoded data removed]",
            "text/plain": [
              "<Figure size 500x500 with 2 Axes>"
            ]
          },
          "metadata": {
            "tags": []
          }
        }
      ]
    },
    {
      "cell_type": "code",
      "metadata": {
        "id": "iPuJQ7i0QUQs"
      },
      "source": [
        "plt.show()"
      ],
      "execution_count": null,
      "outputs": []
    },
    {
      "cell_type": "code",
      "metadata": {
        "id": "iUWVRxgaQXoU",
        "colab": {
          "base_uri": "https://localhost:8080/"
        },
        "outputId": "459b5e6a-8619-4205-eab7-b686a9b40b00"
      },
      "source": [
        "!pip install pyshark\n",
        "import pyshark\n",
        "cap = pyshark.FileCapture('goose.pcapng')"
      ],
      "execution_count": null,
      "outputs": [
        {
          "output_type": "stream",
          "text": [
            "Requirement already satisfied: pyshark in /usr/local/lib/python3.7/dist-packages (0.4.3)\n",
            "Requirement already satisfied: lxml in /usr/local/lib/python3.7/dist-packages (from pyshark) (4.2.6)\n",
            "Requirement already satisfied: py in /usr/local/lib/python3.7/dist-packages (from pyshark) (1.10.0)\n"
          ],
          "name": "stdout"
        }
      ]
    }
  ]
}